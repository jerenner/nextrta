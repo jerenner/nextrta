{
 "cells": [
  {
   "cell_type": "markdown",
   "metadata": {},
   "source": [
    "# Intial tests for NEXT real-time analysis"
   ]
  },
  {
   "cell_type": "code",
   "execution_count": 1,
   "metadata": {},
   "outputs": [
    {
     "data": {
      "application/javascript": [
       "\n",
       "require(['notebook/js/codecell'], function(codecell) {\n",
       "  codecell.CodeCell.options_default.highlight_modes[\n",
       "      'magic_text/x-csrc'] = {'reg':[/^%%microblaze/]};\n",
       "  Jupyter.notebook.events.one('kernel_ready.Kernel', function(){\n",
       "      Jupyter.notebook.get_cells().map(function(cell){\n",
       "          if (cell.cell_type == 'code'){ cell.auto_highlight(); } }) ;\n",
       "  });\n",
       "});\n"
      ]
     },
     "metadata": {},
     "output_type": "display_data"
    }
   ],
   "source": [
    "import numpy as np\n",
    "import socket\n",
    "import struct\n",
    "import time\n",
    "\n",
    "from pynq import Xlnk\n",
    "from pynq import Overlay\n",
    "from pynq.mmio import MMIO"
   ]
  },
  {
   "cell_type": "code",
   "execution_count": 2,
   "metadata": {},
   "outputs": [],
   "source": [
    "# Load the Overlay\n",
    "overlay = Overlay(\"/home/xilinx/jupyter_notebooks/nextrta/evtsender.bit\")\n",
    "\n",
    "# Initialize Xlnk\n",
    "xlnk = Xlnk()\n",
    "\n",
    "# Get the DMA object for transfers\n",
    "dma = overlay.axi_dma_0"
   ]
  },
  {
   "cell_type": "markdown",
   "metadata": {},
   "source": [
    "### Receive many events over ethernet"
   ]
  },
  {
   "cell_type": "code",
   "execution_count": 8,
   "metadata": {},
   "outputs": [],
   "source": [
    "def open_tcp_listener(ip=\"0.0.0.0\", port=12345):\n",
    "    \"\"\"Open a socket, bind, listen, accept once. Return the connected `conn`.\"\"\"\n",
    "    s = socket.socket(socket.AF_INET, socket.SOCK_STREAM)\n",
    "    s.bind((ip, port))\n",
    "    s.listen(1)\n",
    "    print(f\"Listening on {ip}:{port}...\")\n",
    "    conn, addr = s.accept()\n",
    "    print(f\"Accepted connection from {addr}\")\n",
    "    return conn\n",
    "\n",
    "def receive_one_event(conn):\n",
    "    \"\"\"Receive one event from an already-connected socket.\"\"\"\n",
    "    # 1) Read 4 bytes => eventSize\n",
    "    size_data = conn.recv(4)\n",
    "    if not size_data or len(size_data) < 4:\n",
    "        return None  # No data => end of stream or error\n",
    "\n",
    "    event_size = struct.unpack(\"<I\", size_data)[0]\n",
    "    event_data = bytearray(size_data)\n",
    "\n",
    "    # 2) Read event_size - 4 more bytes\n",
    "    remaining = event_size - 4\n",
    "    while remaining > 0:\n",
    "        chunk = conn.recv(remaining)\n",
    "        if not chunk:\n",
    "            break\n",
    "        event_data.extend(chunk)\n",
    "        remaining -= len(chunk)\n",
    "    \n",
    "    if len(event_data) < event_size:\n",
    "        print(\"Incomplete event or connection closed unexpectedly.\")\n",
    "        return None\n",
    "\n",
    "    print(f\"Received one event of size {len(event_data)}\")\n",
    "    return event_data"
   ]
  },
  {
   "cell_type": "code",
   "execution_count": 24,
   "metadata": {},
   "outputs": [
    {
     "name": "stdout",
     "output_type": "stream",
     "text": [
      "Listening on 0.0.0.0:12345...\n",
      "Accepted connection from ('192.168.2.1', 55854)\n"
     ]
    }
   ],
   "source": [
    "conn = open_tcp_listener(\"0.0.0.0\", 12345)"
   ]
  },
  {
   "cell_type": "code",
   "execution_count": 25,
   "metadata": {},
   "outputs": [
    {
     "name": "stdout",
     "output_type": "stream",
     "text": [
      "Received one event of size 8298312\n",
      "Received one event of size 8292512\n",
      "Received one event of size 8302056\n",
      "Received one event of size 8306940\n",
      "Received one event of size 8321504\n",
      "Received one event of size 8271348\n",
      "Received one event of size 8260144\n",
      "Received one event of size 8260804\n",
      "Received one event of size 8445500\n",
      "Received one event of size 8331520\n",
      "Received one event of size 8192844\n",
      "Received one event of size 8318416\n",
      "Received one event of size 8219288\n",
      "Received one event of size 8206484\n",
      "Received one event of size 8345064\n",
      "Received one event of size 8328732\n",
      "Received one event of size 8175308\n",
      "Received one event of size 8253512\n",
      "Received one event of size 8325980\n",
      "Received one event of size 8391888\n",
      "Received one event of size 8269020\n",
      "Received one event of size 8233424\n",
      "Received one event of size 8310152\n",
      "Received one event of size 8235040\n",
      "Received one event of size 8282760\n",
      "Received one event of size 8299308\n",
      "Received one event of size 8310412\n",
      "Received one event of size 8425116\n",
      "Received one event of size 8377052\n",
      "Received one event of size 8301648\n",
      "Received one event of size 8308364\n",
      "Received one event of size 8265692\n",
      "Received one event of size 8287920\n",
      "Received one event of size 8186048\n",
      "Received one event of size 8443828\n",
      "Received one event of size 8289168\n",
      "Received one event of size 8286164\n",
      "Received one event of size 8336352\n",
      "Received one event of size 8683792\n",
      "Received one event of size 8313228\n",
      "Received one event of size 8283668\n",
      "Received one event of size 8271864\n",
      "Received one event of size 8261788\n",
      "Received one event of size 8527900\n",
      "Received one event of size 8316180\n",
      "Received one event of size 8300368\n",
      "Received one event of size 8197452\n",
      "Received one event of size 8254796\n",
      "Received one event of size 8230004\n",
      "Received one event of size 8241984\n",
      "Received one event of size 8408556\n",
      "Received one event of size 8288428\n",
      "Received one event of size 8308276\n",
      "Received one event of size 8259160\n",
      "Received one event of size 8296048\n",
      "Received one event of size 8324288\n",
      "Received one event of size 8268580\n",
      "Received one event of size 8314060\n",
      "Received one event of size 8307608\n",
      "Received one event of size 8271364\n",
      "Received one event of size 8294352\n",
      "Received one event of size 8348716\n",
      "Received one event of size 8275776\n",
      "Received one event of size 8312124\n",
      "Received + DMA 64 events in 20.507 s.\n",
      "Rate: 3.12 events/s, 25.92 MB/s\n"
     ]
    }
   ],
   "source": [
    "start_time = time.time()\n",
    "n_events = 64\n",
    "total_bytes = 0\n",
    "\n",
    "# Pre-allocate once for 10 MB max event size\n",
    "MAX_EVENT_SIZE = 10 * 1024 * 1024  # 10 MB\n",
    "cma_buf_in = xlnk.cma_array(shape=(MAX_EVENT_SIZE//4,), dtype=np.uint32)\n",
    "cma_buf_out = xlnk.cma_array(shape=(MAX_EVENT_SIZE//4,), dtype=np.uint32)\n",
    "\n",
    "for i in range(n_events):\n",
    "    event_data = receive_one_event(conn)\n",
    "    if not event_data:\n",
    "        print(f\"Stopped at event {i}\")\n",
    "        break\n",
    "\n",
    "    # Convert to np array\n",
    "    event_size = len(event_data)\n",
    "    arr32 = np.frombuffer(event_data, dtype=np.uint32)\n",
    "    num_words = arr32.size\n",
    "    \n",
    "    # Copy the data to the input buffer\n",
    "    cma_buf_in[:num_words] = arr32  \n",
    "\n",
    "    # DMA\n",
    "    dma.sendchannel.transfer(cma_buf_in)\n",
    "    dma.recvchannel.transfer(cma_buf_out)\n",
    "    dma.sendchannel.wait()\n",
    "    dma.recvchannel.wait()\n",
    "\n",
    "    # Check correctness\n",
    "#     final_output = bytearray(event_size)\n",
    "#     np.copyto(np.frombuffer(final_output, dtype=np.uint32), cma_buf_out[:num_words])\n",
    "#     if final_output != event_data:\n",
    "#         print(f\"Mismatch in event {i}\")\n",
    "\n",
    "    total_bytes += event_size\n",
    "\n",
    "end_time = time.time()\n",
    "conn.close()\n",
    "\n",
    "elapsed = end_time - start_time\n",
    "mb_transferred = total_bytes / 1e6\n",
    "print(f\"Received + DMA {n_events} events in {elapsed:.3f} s.\")\n",
    "print(f\"Rate: {n_events/elapsed:.2f} events/s, {mb_transferred/elapsed:.2f} MB/s\")"
   ]
  },
  {
   "cell_type": "markdown",
   "metadata": {},
   "source": [
    "### Receive ONE EVENT over ethernet"
   ]
  },
  {
   "cell_type": "code",
   "execution_count": null,
   "metadata": {},
   "outputs": [],
   "source": [
    "def receive_event_from_network(ip=\"0.0.0.0\", port=12345):\n",
    "    s = socket.socket(socket.AF_INET, socket.SOCK_STREAM)\n",
    "    s.bind((ip, port))\n",
    "    s.listen(1)\n",
    "    conn, addr = s.accept()\n",
    "    print(f\"Accepted connection from {addr}\")\n",
    "\n",
    "    # Read 4 bytes => eventSize\n",
    "    size_data = conn.recv(4)\n",
    "    if len(size_data) < 4:\n",
    "        print(\"No data or incomplete header\")\n",
    "        return None\n",
    "\n",
    "    event_size = struct.unpack(\"<I\", size_data)[0]\n",
    "    event_data = bytearray(size_data)\n",
    "\n",
    "    # Now read the rest\n",
    "    remaining = event_size - 4\n",
    "    while remaining > 0:\n",
    "        chunk = conn.recv(remaining)\n",
    "        if not chunk:\n",
    "            print(\"Connection closed prematurely.\")\n",
    "            break\n",
    "        event_data.extend(chunk)\n",
    "        remaining -= len(chunk)\n",
    "\n",
    "    print(f\"Received event of size {len(event_data)} bytes.\")\n",
    "    return event_data"
   ]
  },
  {
   "cell_type": "code",
   "execution_count": null,
   "metadata": {},
   "outputs": [],
   "source": [
    "event_data = receive_event_from_network()"
   ]
  },
  {
   "cell_type": "code",
   "execution_count": null,
   "metadata": {},
   "outputs": [],
   "source": [
    "event_size = len(event_data)\n",
    "\n",
    "arr32 = np.frombuffer(event_data, dtype=np.uint32)\n",
    "num_words = event_size // 4\n",
    "\n",
    "# CMA buffers\n",
    "event_data_32 = xlnk.cma_array(shape=(num_words,), dtype=np.uint32)\n",
    "np.copyto(event_data_32, arr32)\n",
    "output_data_32 = xlnk.cma_array(shape=(event_size//4,), dtype='uint32')\n",
    "\n",
    "dma.sendchannel.transfer(event_data_32)\n",
    "dma.recvchannel.transfer(output_data_32)\n",
    "dma.sendchannel.wait()\n",
    "dma.recvchannel.wait()\n",
    "\n",
    "# Reconstruct final bytes (if needed)\n",
    "final_output = bytearray(event_size)\n",
    "np.copyto(np.frombuffer(final_output, dtype=np.uint32), output_data_32)"
   ]
  },
  {
   "cell_type": "code",
   "execution_count": null,
   "metadata": {},
   "outputs": [],
   "source": [
    "event_data == final_output\n",
    "#event_data[0] = final_output[0]"
   ]
  },
  {
   "cell_type": "markdown",
   "metadata": {},
   "source": [
    "### DMA test"
   ]
  },
  {
   "cell_type": "code",
   "execution_count": null,
   "metadata": {},
   "outputs": [],
   "source": [
    "# Allocate buffers\n",
    "input_buffer = xlnk.cma_array(shape=(1024,), dtype=np.uint32)\n",
    "output_buffer = xlnk.cma_array(shape=(1024,), dtype=np.uint32)"
   ]
  },
  {
   "cell_type": "code",
   "execution_count": null,
   "metadata": {},
   "outputs": [],
   "source": [
    "hex(input_buffer.physical_address)"
   ]
  },
  {
   "cell_type": "code",
   "execution_count": null,
   "metadata": {},
   "outputs": [],
   "source": [
    "hex(output_buffer.physical_address)"
   ]
  },
  {
   "cell_type": "code",
   "execution_count": null,
   "metadata": {},
   "outputs": [],
   "source": [
    "# Fill input buffer with test pattern\n",
    "for i in range(1024):\n",
    "    input_buffer[i] = i\n",
    "\n",
    "# Start the DMA transfer\n",
    "dma.sendchannel.transfer(input_buffer)\n",
    "dma.recvchannel.transfer(output_buffer)\n",
    "\n",
    "# Wait for completion\n",
    "dma.sendchannel.wait()\n",
    "dma.recvchannel.wait()\n",
    "\n",
    "# Check results\n",
    "print(\"i ibuf obuf\")\n",
    "for i in range(100):\n",
    "    #print(i, hex(input_buffer[i]), hex(output_buffer[i]))\n",
    "    print(i, input_buffer[i], output_buffer[i])"
   ]
  },
  {
   "cell_type": "code",
   "execution_count": null,
   "metadata": {},
   "outputs": [],
   "source": []
  }
 ],
 "metadata": {
  "kernelspec": {
   "display_name": "Python 3",
   "language": "python",
   "name": "python3"
  },
  "language_info": {
   "codemirror_mode": {
    "name": "ipython",
    "version": 3
   },
   "file_extension": ".py",
   "mimetype": "text/x-python",
   "name": "python",
   "nbconvert_exporter": "python",
   "pygments_lexer": "ipython3",
   "version": "3.6.5"
  }
 },
 "nbformat": 4,
 "nbformat_minor": 2
}
